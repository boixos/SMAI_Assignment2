{
  "nbformat": 4,
  "nbformat_minor": 0,
  "metadata": {
    "colab": {
      "name": "question1.ipynb",
      "provenance": [],
      "collapsed_sections": [],
      "history_visible": true
    },
    "kernelspec": {
      "name": "python3",
      "display_name": "Python 3"
    }
  },
  "cells": [
    {
      "cell_type": "markdown",
      "metadata": {
        "id": "vpWQigP0msj9"
      },
      "source": [
        "**Part 1:** \n",
        "\n",
        "Use the **Fashion-MNIST** dataset for this question.\n",
        "\n",
        "1) Load the dataset and perform splitting into training and validation sets with 70:30 ratio.\n",
        "\n",
        "> Do we need to normalise data? [If so Does it make any difference?]\n",
        "\n",
        "2) Implement the K Means algorithm. You need to find the optimal number of clusters using the\n",
        "    elbow method and silhouette method. \n",
        "\n",
        "3) Define the initial clusters’ centroids using:</br>\n",
        "> i) Forgy</br>\n",
        "\n",
        "> ii) Random Partition\n",
        "\n",
        "4) Experiment with different distance measures[Euclidean distance, Manhattan distance].\n",
        "\n",
        "5) Plot the error vs number of clusters graph while using the elbow method and silhouette \n",
        "    method. Report the optimal number of clusters found.\n",
        "\n",
        "6) Report the training and the validation accuracy and Compare your trained model with a model trained by the scikit-learn\n",
        "\n",
        "7) Visualize the dataset to depict the clusters formed. #Prefer T-SNE\n",
        "\n",
        "8) Implement K-means++, and repeat task 1 to task 7 again.</br>\n",
        "</br>\n",
        "</br>\n",
        "</br>\n",
        "</br>\n",
        "**Part 2:**\n",
        "</br>\n",
        "In this task, you will perform operations on `[data.csv](https://drive.google.com/file/d/15NPkfXFoTkiRBlcI4ffe_Lp_BFOyf8UY/view?usp=sharing)`, data.csv is a  latent space representation of  Fashion-MNIST, before doing this task please read about latent space representation.\n",
        "\n",
        "9) Load the data.csv file and apply Kmeans and Kmeans++, You need to find the optimal number of clusters using the elbow method and silhouette method.\n",
        "\n",
        "10) Visualize the dataset to depict the clusters formed. # Prefer T-SNE\n",
        "\n",
        "11) From these experiments(Part 1 and Part 2), compare accuracy or error, and report which one is better and why?\n",
        "</br>\n",
        "</br>\n",
        "**Note:** If the model takes a lot of time to train you can use MiniBatchKMeans.\n",
        " \n",
        "\n",
        "\n"
      ]
    },
    {
      "cell_type": "code",
      "metadata": {
        "id": "FE0C5oE04ecL"
      },
      "source": [
        "import pandas as pd\n",
        "import numpy as np\n",
        "import seaborn as sns\n",
        "import matplotlib.pyplot as plt\n",
        "from sklearn.model_selection import train_test_split\n",
        "from sklearn.metrics.cluster import homogeneity_score\n",
        "\n",
        "\n",
        "%matplotlib inline\n"
      ],
      "execution_count": 2,
      "outputs": []
    },
    {
      "cell_type": "code",
      "metadata": {
        "id": "wx7jjdH-4qRh"
      },
      "source": [
        "from sklearn.cluster import KMeans\n",
        "wcss = []\n",
        "for i in range(1,25):\n",
        "  Cluster = KMeans(n_clusters=i,init='k-means++',random_state=42)\n",
        "  Cluster.fit(trainX)\n",
        "  wcss.append(Cluster.inertia_)\n",
        "\n"
      ],
      "execution_count": null,
      "outputs": []
    },
    {
      "cell_type": "code",
      "metadata": {
        "id": "IE3gke5GMCw5"
      },
      "source": [
        "plt.plot(range(1,25),wcss)\n",
        "plt.show()"
      ],
      "execution_count": null,
      "outputs": []
    },
    {
      "cell_type": "code",
      "metadata": {
        "id": "x61tUvHqMW2K"
      },
      "source": [
        "kmean = KMeans(n_clusters=10,init='k-means++',random_state=42)\n",
        "y = kmean.fit_predict(trainX)\n",
        "y"
      ],
      "execution_count": null,
      "outputs": []
    },
    {
      "cell_type": "code",
      "metadata": {
        "id": "FiGLULdfN2T4"
      },
      "source": [
        "plt.scatter(trainX[y == 0, 0], trainX[y == 0, 1],s=100)\n",
        "plt.scatter(trainX[y == 1, 0], trainX[y == 1, 1],s=100)\n",
        "plt.scatter(trainX[y == 2, 0], trainX[y == 2, 1],s=100)\n",
        "plt.scatter(trainX[y == 3, 0], trainX[y == 3, 1],s=100)\n",
        "plt.scatter(trainX[y == 4, 0], trainX[y == 4, 1],s=100)\n",
        "plt.scatter(trainX[y == 5, 0], trainX[y == 5, 1],s=100)\n",
        "plt.scatter(trainX[y == 5, 0], trainX[y == 5, 1],s=100)\n",
        "plt.scatter(trainX[y == 6, 0], trainX[y == 6, 1],s=100)\n",
        "plt.scatter(trainX[y == 7, 0], trainX[y == 7, 1],s=100)\n",
        "plt.scatter(trainX[y == 8, 0], trainX[y == 8, 1],s=100)\n",
        "plt.scatter(trainX[y == 9, 0], trainX[y == 9, 1],s=100)\n",
        "plt.title('Clusters of customers')\n",
        "plt.xlabel('Annual Income (k$)')\n",
        "plt.ylabel('Spending Score (1-100)')\n",
        "plt.legend()\n",
        "plt.show()\n"
      ],
      "execution_count": null,
      "outputs": []
    },
    {
      "cell_type": "code",
      "metadata": {
        "colab": {
          "base_uri": "https://localhost:8080/"
        },
        "id": "vCG5IrqsTool",
        "outputId": "fc32b4b4-ae9c-4c45-9166-2bb5fb7708bd"
      },
      "source": [
        "from sklearn.metrics.cluster import homogeneity_score\n",
        "print(homogeneity_score(trainy,y))"
      ],
      "execution_count": null,
      "outputs": [
        {
          "output_type": "stream",
          "text": [
            "0.5002897078298034\n"
          ],
          "name": "stdout"
        }
      ]
    },
    {
      "cell_type": "code",
      "metadata": {
        "id": "MMlj_9Gz5GQG"
      },
      "source": [
        "plt.scatter(trainX[:, 0], trainX[:, 1], c=y, s=50, cmap='plasma')\n",
        "plt.rcParams.update({'figure.figsize':(10,7.5), 'figure.dpi':100})"
      ],
      "execution_count": null,
      "outputs": []
    },
    {
      "cell_type": "code",
      "metadata": {
        "id": "yY8uMDe9quTE"
      },
      "source": [
        "#implement elbow method from scratch\n",
        "def elbow(X):\n",
        "  er = []\n",
        "  for i in range(2,15):\n",
        "    model = kmeans(i,1,2)\n",
        "    model.fit(trainX)\n",
        "    c = model.centroids\n",
        "    dist = ((X - c[:, np.newaxis])**2).sum(axis=2)\n",
        "    dist = sum(dist)\n",
        "    er.append(dist)\n",
        "  return er\n",
        "\n"
      ],
      "execution_count": 12,
      "outputs": []
    },
    {
      "cell_type": "code",
      "metadata": {
        "colab": {
          "base_uri": "https://localhost:8080/"
        },
        "id": "qt6umy5HCfXm",
        "outputId": "b6359b2c-9299-4971-ed6d-a222cdd36a0e"
      },
      "source": [
        "err = elbow(trainX)\n",
        "k = list(range(2,15))\n"
      ],
      "execution_count": 26,
      "outputs": [
        {
          "output_type": "stream",
          "text": [
            "[[9.34921345e-04 5.56887931e-03 3.46733873e-02 ... 2.76663550e+00\n",
            "  8.33584001e-01 7.23954311e-02]\n",
            " [2.04926431e-04 5.98385180e-03 3.04930530e-02 ... 2.74580925e+00\n",
            "  8.48026558e-01 7.50440592e-02]]\n",
            "END###################################\n",
            "(2, 49000)\n",
            "[[1.41616896e-03 6.64983683e-03 2.86928145e-02 ... 2.76547011e+00\n",
            "  7.94532356e-01 8.26303799e-02]\n",
            " [6.09681746e-05 3.23131325e-03 2.60334106e-02 ... 2.70149982e+00\n",
            "  8.05328618e-01 6.90769418e-02]\n",
            " [2.44543620e-04 7.45858042e-03 4.30396772e-02 ... 2.80204194e+00\n",
            "  9.22235129e-01 6.95115241e-02]]\n",
            "END###################################\n",
            "(3, 49000)\n",
            "[[1.31546493e-03 4.85077695e-03 2.55693497e-02 ... 2.76321631e+00\n",
            "  8.18383622e-01 7.55570172e-02]\n",
            " [2.45138094e-04 2.94165713e-03 1.96110476e-02 ... 2.78877268e+00\n",
            "  8.18025821e-01 6.14479490e-02]\n",
            " [4.86263068e-04 5.42993760e-03 2.68255126e-02 ... 2.66002107e+00\n",
            "  9.93516492e-01 7.56139071e-02]\n",
            " [2.44698206e-04 9.86949429e-03 5.83197390e-02 ... 2.81378467e+00\n",
            "  7.31973899e-01 8.22185971e-02]]\n",
            "END###################################\n",
            "(4, 49000)\n",
            "[[1.02870075e-04 4.73202345e-03 2.98323218e-02 ... 2.73778418e+00\n",
            "  7.58975414e-01 6.40880568e-02]\n",
            " [2.01491034e-04 4.43280274e-03 2.42796696e-02 ... 2.63600645e+00\n",
            "  8.91799315e-01 8.82530727e-02]\n",
            " [1.01791531e-04 9.36482085e-03 4.72312704e-02 ... 2.71162459e+00\n",
            "  8.90472313e-01 7.89902280e-02]\n",
            " [2.38713025e-03 4.87804878e-03 3.02023871e-02 ... 2.80300986e+00\n",
            "  7.59522574e-01 6.28956928e-02]\n",
            " [1.01071356e-04 5.45785324e-03 3.14331918e-02 ... 2.89387508e+00\n",
            "  8.99737214e-01 7.38831615e-02]]\n",
            "END###################################\n",
            "(5, 49000)\n",
            "[[1.23213406e-04 1.01034993e-02 4.42336126e-02 ... 2.93173977e+00\n",
            "  9.62543125e-01 6.81370133e-02]\n",
            " [6.13120785e-04 4.65971796e-03 2.83261803e-02 ... 2.86719804e+00\n",
            "  9.21888412e-01 5.83690987e-02]\n",
            " [4.84085683e-04 3.63064262e-03 4.42938400e-02 ... 2.54350720e+00\n",
            "  7.03618540e-01 7.06765097e-02]\n",
            " [0.00000000e+00 3.03324436e-03 2.07473914e-02 ... 2.67180296e+00\n",
            "  8.14850764e-01 1.01189032e-01]\n",
            " [2.48880040e-04 3.85764062e-03 2.52613240e-02 ... 2.67906919e+00\n",
            "  7.75883524e-01 8.61124938e-02]\n",
            " [1.95407914e-03 9.40400586e-03 3.26086957e-02 ... 2.84733757e+00\n",
            "  8.67489008e-01 5.77674646e-02]]\n",
            "END###################################\n",
            "(6, 49000)\n",
            "[[5.70532021e-04 1.06974754e-02 4.57851947e-02 ... 2.67137356e+00\n",
            "  7.47539581e-01 6.16174583e-02]\n",
            " [1.41422712e-04 5.51548579e-03 3.64870598e-02 ... 2.62862396e+00\n",
            "  6.99476736e-01 5.37406307e-02]\n",
            " [4.27167877e-04 2.99017514e-03 2.42061797e-02 ... 2.93378898e+00\n",
            "  9.27381461e-01 7.70326071e-02]\n",
            " ...\n",
            " [5.65770863e-04 4.80905233e-03 2.92786421e-02 ... 2.76577086e+00\n",
            "  1.03606789e+00 1.21499293e-01]\n",
            " [0.00000000e+00 5.20607375e-03 3.42733189e-02 ... 2.76919740e+00\n",
            "  8.64642082e-01 6.56543745e-02]\n",
            " [2.33440327e-03 8.46221185e-03 4.23110592e-02 ... 2.81835425e+00\n",
            "  7.47884447e-01 4.50831631e-02]]\n",
            "END###################################\n",
            "(7, 49000)\n",
            "[[4.89396411e-04 1.79445351e-03 3.27895595e-02 ... 2.62479608e+00\n",
            "  7.77650897e-01 1.02936378e-01]\n",
            " [0.00000000e+00 3.93378135e-03 2.27831503e-02 ... 2.74479594e+00\n",
            "  8.00196689e-01 6.49073922e-02]\n",
            " [1.65535507e-04 3.80731667e-03 2.38371131e-02 ... 2.76974011e+00\n",
            "  8.76179440e-01 7.84638305e-02]\n",
            " ...\n",
            " [4.92206727e-04 7.21903199e-03 2.88761280e-02 ... 2.71878589e+00\n",
            "  7.90812141e-01 4.75799836e-02]\n",
            " [0.00000000e+00 1.20038412e-02 7.57042254e-02 ... 2.76952625e+00\n",
            "  8.07938540e-01 7.07426376e-02]\n",
            " [3.31950207e-03 6.30705394e-03 3.05394191e-02 ... 2.85975104e+00\n",
            "  1.08531120e+00 1.20663900e-01]]\n",
            "END###################################\n",
            "(8, 49000)\n",
            "[[1.84433788e-04 3.13537440e-03 3.54112873e-02 ... 2.46219107e+00\n",
            "  6.23386204e-01 3.94688307e-02]\n",
            " [0.00000000e+00 4.21631531e-03 1.99816682e-02 ... 2.91530706e+00\n",
            "  8.92575619e-01 7.09440880e-02]\n",
            " [0.00000000e+00 9.74802281e-03 2.13352952e-02 ... 3.09472135e+00\n",
            "  7.49126356e-01 4.61651646e-02]\n",
            " ...\n",
            " [5.37827178e-04 2.15130871e-03 4.87629975e-02 ... 2.73933309e+00\n",
            "  9.48189315e-01 1.21548942e-01]\n",
            " [2.99850075e-03 1.48050975e-02 6.61544228e-02 ... 2.50337331e+00\n",
            "  8.83058471e-01 6.63418291e-02]\n",
            " [3.65030115e-04 2.55521080e-03 3.48603760e-02 ... 2.93447709e+00\n",
            "  9.70980106e-01 8.88848330e-02]]\n",
            "END###################################\n",
            "(9, 49000)\n",
            "[[4.03063281e-04 2.21684805e-03 3.76864168e-02 ... 2.49415558e+00\n",
            "  6.74324869e-01 1.20314389e-01]\n",
            " [2.07425845e-04 7.67475627e-03 2.65505082e-02 ... 2.61501763e+00\n",
            "  7.07529558e-01 5.22713130e-02]\n",
            " [0.00000000e+00 3.02358395e-03 2.80185446e-02 ... 3.02902641e+00\n",
            "  8.86716388e-01 7.84116106e-02]\n",
            " ...\n",
            " [1.41471302e-03 1.27324171e-02 8.50848828e-02 ... 2.68431690e+00\n",
            "  7.76879547e-01 3.03152789e-02]\n",
            " [0.00000000e+00 2.21908412e-03 1.99717571e-02 ... 2.79039742e+00\n",
            "  8.56163002e-01 2.15856365e-02]\n",
            " [0.00000000e+00 9.73891421e-03 3.31537505e-02 ... 2.81765437e+00\n",
            "  8.79817654e-01 8.08122669e-02]]\n",
            "END###################################\n",
            "(10, 49000)\n",
            "[[0.00000000e+00 3.09460654e-03 1.65782493e-02 ... 3.40826702e+00\n",
            "  1.20711760e+00 7.51547303e-02]\n",
            " [2.26551880e-04 3.17172633e-03 1.85772542e-02 ... 2.65903942e+00\n",
            "  7.21567739e-01 3.30765745e-02]\n",
            " [0.00000000e+00 4.71592185e-03 2.38041770e-02 ... 3.11093645e+00\n",
            "  7.55894902e-01 3.36851561e-02]\n",
            " ...\n",
            " [0.00000000e+00 4.32112804e-03 3.72981578e-02 ... 2.54559927e+00\n",
            "  7.84398453e-01 3.82078690e-02]\n",
            " [2.25275963e-04 6.30772697e-03 3.31155666e-02 ... 2.77517459e+00\n",
            "  8.91642262e-01 7.61432755e-02]\n",
            " [3.64547733e-03 1.09364320e-02 2.50626566e-02 ... 2.86420597e+00\n",
            "  9.32786512e-01 9.84278879e-02]]\n",
            "END###################################\n",
            "(11, 49000)\n",
            "[[0.00000000e+00 4.29184549e-03 3.00429185e-02 ... 2.53168392e+00\n",
            "  9.58596314e-01 7.80106034e-02]\n",
            " [0.00000000e+00 3.41213746e-03 3.14404095e-02 ... 2.83719230e+00\n",
            "  6.69022666e-01 2.58347551e-02]\n",
            " [2.40963855e-04 3.61445783e-03 2.40963855e-02 ... 2.78240964e+00\n",
            "  8.92048193e-01 1.20240964e-01]\n",
            " ...\n",
            " [4.88878025e-04 7.82204840e-03 1.85773649e-02 ... 3.08726473e+00\n",
            "  1.02419946e+00 6.40430213e-02]\n",
            " [0.00000000e+00 9.74184121e-03 3.87238188e-02 ... 2.81393083e+00\n",
            "  7.87384316e-01 6.96541646e-02]\n",
            " [0.00000000e+00 3.42969133e-03 2.40078393e-02 ... 2.35864772e+00\n",
            "  7.20970113e-01 2.76825086e-02]]\n",
            "END###################################\n",
            "(12, 49000)\n",
            "[[0.00000000e+00 4.36121088e-03 4.64340688e-02 ... 2.79681888e+00\n",
            "  9.84350949e-01 5.66957414e-02]\n",
            " [5.16262261e-04 7.22767166e-03 2.55549819e-02 ... 2.62906557e+00\n",
            "  9.42694889e-01 4.18172432e-02]\n",
            " [2.61985853e-04 9.95546241e-03 2.38407126e-02 ... 2.86848310e+00\n",
            "  1.03982185e+00 9.16950485e-02]\n",
            " ...\n",
            " [0.00000000e+00 4.57850795e-03 2.42391597e-02 ... 2.59332076e+00\n",
            "  7.77269055e-01 1.14193375e-01]\n",
            " [0.00000000e+00 2.12539851e-03 1.91285866e-02 ... 3.18836344e+00\n",
            "  1.03108395e+00 1.44792774e-01]\n",
            " [0.00000000e+00 3.19148936e-03 1.64893617e-02 ... 2.61489362e+00\n",
            "  7.27925532e-01 2.76595745e-02]]\n",
            "END###################################\n",
            "(13, 49000)\n",
            "[[0.00000000e+00 7.52968433e-03 1.70865914e-02 ... 2.73240660e+00\n",
            "  7.37619461e-01 3.88068346e-02]\n",
            " [1.13862795e-03 5.97779675e-03 1.87873612e-02 ... 2.73583831e+00\n",
            "  7.91915742e-01 1.02476516e-01]\n",
            " [0.00000000e+00 1.72661871e-03 2.04316547e-02 ... 2.94043165e+00\n",
            "  9.51654676e-01 1.02446043e-01]\n",
            " ...\n",
            " [0.00000000e+00 3.12944523e-03 2.64580370e-02 ... 2.92233286e+00\n",
            "  9.39118065e-01 9.58748222e-02]\n",
            " [0.00000000e+00 1.15673800e-03 2.34239445e-02 ... 2.83285136e+00\n",
            "  7.53903991e-01 4.42452285e-02]\n",
            " [0.00000000e+00 2.66983091e-03 2.10619994e-02 ... 2.96796203e+00\n",
            "  8.32987244e-01 5.42865619e-02]]\n",
            "END###################################\n",
            "(14, 49000)\n"
          ],
          "name": "stdout"
        }
      ]
    },
    {
      "cell_type": "code",
      "metadata": {
        "colab": {
          "base_uri": "https://localhost:8080/"
        },
        "id": "-q1UeQNLNVG3",
        "outputId": "2c6564c7-1a31-4df3-9e66-1d924c45bdd1"
      },
      "source": [
        "err[10]"
      ],
      "execution_count": 25,
      "outputs": [
        {
          "output_type": "execute_result",
          "data": {
            "text/plain": [
              "4112892565622.456"
            ]
          },
          "metadata": {
            "tags": []
          },
          "execution_count": 25
        }
      ]
    },
    {
      "cell_type": "code",
      "metadata": {
        "colab": {
          "base_uri": "https://localhost:8080/",
          "height": 986
        },
        "id": "cqDJjdz_CcSC",
        "outputId": "22eacd7c-e8bd-4abd-e797-9dadda16cab9"
      },
      "source": [
        "# k = list(range(2,6)) # Range of 'k'\n",
        "plt.figure(figsize=(20,10)) # Size of figure is adjusted.\n",
        "plt.xticks(fontsize=20) # Size of number labels on x-axis is adjusted.\n",
        "plt.yticks(fontsize=20) # Size of number labels on y-axis is adjusted.\n",
        "plt.plot(k,err) # Graph is plotted.\n",
        "plt.xlabel('Value of k',fontsize = 25) # x-axis is labelled.\n",
        "plt.ylabel('Value of Epsilon',fontsize = 25) "
      ],
      "execution_count": 15,
      "outputs": [
        {
          "output_type": "stream",
          "text": [
            "/usr/local/lib/python3.7/dist-packages/numpy/core/_asarray.py:136: VisibleDeprecationWarning: Creating an ndarray from ragged nested sequences (which is a list-or-tuple of lists-or-tuples-or ndarrays with different lengths or shapes) is deprecated. If you meant to do this, you must specify 'dtype=object' when creating the ndarray\n",
            "  return array(a, dtype, copy=False, order=order, subok=True)\n"
          ],
          "name": "stderr"
        },
        {
          "output_type": "error",
          "ename": "ValueError",
          "evalue": "ignored",
          "traceback": [
            "\u001b[0;31m---------------------------------------------------------------------------\u001b[0m",
            "\u001b[0;31mTypeError\u001b[0m                                 Traceback (most recent call last)",
            "\u001b[0;31mTypeError\u001b[0m: only size-1 arrays can be converted to Python scalars",
            "\nThe above exception was the direct cause of the following exception:\n",
            "\u001b[0;31mValueError\u001b[0m                                Traceback (most recent call last)",
            "\u001b[0;32m<ipython-input-15-108b3ea3ae0f>\u001b[0m in \u001b[0;36m<module>\u001b[0;34m()\u001b[0m\n\u001b[1;32m      3\u001b[0m \u001b[0mplt\u001b[0m\u001b[0;34m.\u001b[0m\u001b[0mxticks\u001b[0m\u001b[0;34m(\u001b[0m\u001b[0mfontsize\u001b[0m\u001b[0;34m=\u001b[0m\u001b[0;36m20\u001b[0m\u001b[0;34m)\u001b[0m \u001b[0;31m# Size of number labels on x-axis is adjusted.\u001b[0m\u001b[0;34m\u001b[0m\u001b[0;34m\u001b[0m\u001b[0m\n\u001b[1;32m      4\u001b[0m \u001b[0mplt\u001b[0m\u001b[0;34m.\u001b[0m\u001b[0myticks\u001b[0m\u001b[0;34m(\u001b[0m\u001b[0mfontsize\u001b[0m\u001b[0;34m=\u001b[0m\u001b[0;36m20\u001b[0m\u001b[0;34m)\u001b[0m \u001b[0;31m# Size of number labels on y-axis is adjusted.\u001b[0m\u001b[0;34m\u001b[0m\u001b[0;34m\u001b[0m\u001b[0m\n\u001b[0;32m----> 5\u001b[0;31m \u001b[0mplt\u001b[0m\u001b[0;34m.\u001b[0m\u001b[0mplot\u001b[0m\u001b[0;34m(\u001b[0m\u001b[0mk\u001b[0m\u001b[0;34m,\u001b[0m\u001b[0merr\u001b[0m\u001b[0;34m)\u001b[0m \u001b[0;31m# Graph is plotted.\u001b[0m\u001b[0;34m\u001b[0m\u001b[0;34m\u001b[0m\u001b[0m\n\u001b[0m\u001b[1;32m      6\u001b[0m \u001b[0mplt\u001b[0m\u001b[0;34m.\u001b[0m\u001b[0mxlabel\u001b[0m\u001b[0;34m(\u001b[0m\u001b[0;34m'Value of k'\u001b[0m\u001b[0;34m,\u001b[0m\u001b[0mfontsize\u001b[0m \u001b[0;34m=\u001b[0m \u001b[0;36m25\u001b[0m\u001b[0;34m)\u001b[0m \u001b[0;31m# x-axis is labelled.\u001b[0m\u001b[0;34m\u001b[0m\u001b[0;34m\u001b[0m\u001b[0m\n\u001b[1;32m      7\u001b[0m \u001b[0mplt\u001b[0m\u001b[0;34m.\u001b[0m\u001b[0mylabel\u001b[0m\u001b[0;34m(\u001b[0m\u001b[0;34m'Value of Epsilon'\u001b[0m\u001b[0;34m,\u001b[0m\u001b[0mfontsize\u001b[0m \u001b[0;34m=\u001b[0m \u001b[0;36m25\u001b[0m\u001b[0;34m)\u001b[0m\u001b[0;34m\u001b[0m\u001b[0;34m\u001b[0m\u001b[0m\n",
            "\u001b[0;32m/usr/local/lib/python3.7/dist-packages/matplotlib/pyplot.py\u001b[0m in \u001b[0;36mplot\u001b[0;34m(scalex, scaley, data, *args, **kwargs)\u001b[0m\n\u001b[1;32m   2761\u001b[0m     return gca().plot(\n\u001b[1;32m   2762\u001b[0m         *args, scalex=scalex, scaley=scaley, **({\"data\": data} if data\n\u001b[0;32m-> 2763\u001b[0;31m         is not None else {}), **kwargs)\n\u001b[0m\u001b[1;32m   2764\u001b[0m \u001b[0;34m\u001b[0m\u001b[0m\n\u001b[1;32m   2765\u001b[0m \u001b[0;34m\u001b[0m\u001b[0m\n",
            "\u001b[0;32m/usr/local/lib/python3.7/dist-packages/matplotlib/axes/_axes.py\u001b[0m in \u001b[0;36mplot\u001b[0;34m(self, scalex, scaley, data, *args, **kwargs)\u001b[0m\n\u001b[1;32m   1647\u001b[0m         \u001b[0mlines\u001b[0m \u001b[0;34m=\u001b[0m \u001b[0;34m[\u001b[0m\u001b[0;34m*\u001b[0m\u001b[0mself\u001b[0m\u001b[0;34m.\u001b[0m\u001b[0m_get_lines\u001b[0m\u001b[0;34m(\u001b[0m\u001b[0;34m*\u001b[0m\u001b[0margs\u001b[0m\u001b[0;34m,\u001b[0m \u001b[0mdata\u001b[0m\u001b[0;34m=\u001b[0m\u001b[0mdata\u001b[0m\u001b[0;34m,\u001b[0m \u001b[0;34m**\u001b[0m\u001b[0mkwargs\u001b[0m\u001b[0;34m)\u001b[0m\u001b[0;34m]\u001b[0m\u001b[0;34m\u001b[0m\u001b[0;34m\u001b[0m\u001b[0m\n\u001b[1;32m   1648\u001b[0m         \u001b[0;32mfor\u001b[0m \u001b[0mline\u001b[0m \u001b[0;32min\u001b[0m \u001b[0mlines\u001b[0m\u001b[0;34m:\u001b[0m\u001b[0;34m\u001b[0m\u001b[0;34m\u001b[0m\u001b[0m\n\u001b[0;32m-> 1649\u001b[0;31m             \u001b[0mself\u001b[0m\u001b[0;34m.\u001b[0m\u001b[0madd_line\u001b[0m\u001b[0;34m(\u001b[0m\u001b[0mline\u001b[0m\u001b[0;34m)\u001b[0m\u001b[0;34m\u001b[0m\u001b[0;34m\u001b[0m\u001b[0m\n\u001b[0m\u001b[1;32m   1650\u001b[0m         \u001b[0mself\u001b[0m\u001b[0;34m.\u001b[0m\u001b[0m_request_autoscale_view\u001b[0m\u001b[0;34m(\u001b[0m\u001b[0mscalex\u001b[0m\u001b[0;34m=\u001b[0m\u001b[0mscalex\u001b[0m\u001b[0;34m,\u001b[0m \u001b[0mscaley\u001b[0m\u001b[0;34m=\u001b[0m\u001b[0mscaley\u001b[0m\u001b[0;34m)\u001b[0m\u001b[0;34m\u001b[0m\u001b[0;34m\u001b[0m\u001b[0m\n\u001b[1;32m   1651\u001b[0m         \u001b[0;32mreturn\u001b[0m \u001b[0mlines\u001b[0m\u001b[0;34m\u001b[0m\u001b[0;34m\u001b[0m\u001b[0m\n",
            "\u001b[0;32m/usr/local/lib/python3.7/dist-packages/matplotlib/axes/_base.py\u001b[0m in \u001b[0;36madd_line\u001b[0;34m(self, line)\u001b[0m\n\u001b[1;32m   1848\u001b[0m             \u001b[0mline\u001b[0m\u001b[0;34m.\u001b[0m\u001b[0mset_clip_path\u001b[0m\u001b[0;34m(\u001b[0m\u001b[0mself\u001b[0m\u001b[0;34m.\u001b[0m\u001b[0mpatch\u001b[0m\u001b[0;34m)\u001b[0m\u001b[0;34m\u001b[0m\u001b[0;34m\u001b[0m\u001b[0m\n\u001b[1;32m   1849\u001b[0m \u001b[0;34m\u001b[0m\u001b[0m\n\u001b[0;32m-> 1850\u001b[0;31m         \u001b[0mself\u001b[0m\u001b[0;34m.\u001b[0m\u001b[0m_update_line_limits\u001b[0m\u001b[0;34m(\u001b[0m\u001b[0mline\u001b[0m\u001b[0;34m)\u001b[0m\u001b[0;34m\u001b[0m\u001b[0;34m\u001b[0m\u001b[0m\n\u001b[0m\u001b[1;32m   1851\u001b[0m         \u001b[0;32mif\u001b[0m \u001b[0;32mnot\u001b[0m \u001b[0mline\u001b[0m\u001b[0;34m.\u001b[0m\u001b[0mget_label\u001b[0m\u001b[0;34m(\u001b[0m\u001b[0;34m)\u001b[0m\u001b[0;34m:\u001b[0m\u001b[0;34m\u001b[0m\u001b[0;34m\u001b[0m\u001b[0m\n\u001b[1;32m   1852\u001b[0m             \u001b[0mline\u001b[0m\u001b[0;34m.\u001b[0m\u001b[0mset_label\u001b[0m\u001b[0;34m(\u001b[0m\u001b[0;34m'_line%d'\u001b[0m \u001b[0;34m%\u001b[0m \u001b[0mlen\u001b[0m\u001b[0;34m(\u001b[0m\u001b[0mself\u001b[0m\u001b[0;34m.\u001b[0m\u001b[0mlines\u001b[0m\u001b[0;34m)\u001b[0m\u001b[0;34m)\u001b[0m\u001b[0;34m\u001b[0m\u001b[0;34m\u001b[0m\u001b[0m\n",
            "\u001b[0;32m/usr/local/lib/python3.7/dist-packages/matplotlib/axes/_base.py\u001b[0m in \u001b[0;36m_update_line_limits\u001b[0;34m(self, line)\u001b[0m\n\u001b[1;32m   1870\u001b[0m         \u001b[0mFigures\u001b[0m \u001b[0mout\u001b[0m \u001b[0mthe\u001b[0m \u001b[0mdata\u001b[0m \u001b[0mlimit\u001b[0m \u001b[0mof\u001b[0m \u001b[0mthe\u001b[0m \u001b[0mgiven\u001b[0m \u001b[0mline\u001b[0m\u001b[0;34m,\u001b[0m \u001b[0mupdating\u001b[0m \u001b[0mself\u001b[0m\u001b[0;34m.\u001b[0m\u001b[0mdataLim\u001b[0m\u001b[0;34m.\u001b[0m\u001b[0;34m\u001b[0m\u001b[0;34m\u001b[0m\u001b[0m\n\u001b[1;32m   1871\u001b[0m         \"\"\"\n\u001b[0;32m-> 1872\u001b[0;31m         \u001b[0mpath\u001b[0m \u001b[0;34m=\u001b[0m \u001b[0mline\u001b[0m\u001b[0;34m.\u001b[0m\u001b[0mget_path\u001b[0m\u001b[0;34m(\u001b[0m\u001b[0;34m)\u001b[0m\u001b[0;34m\u001b[0m\u001b[0;34m\u001b[0m\u001b[0m\n\u001b[0m\u001b[1;32m   1873\u001b[0m         \u001b[0;32mif\u001b[0m \u001b[0mpath\u001b[0m\u001b[0;34m.\u001b[0m\u001b[0mvertices\u001b[0m\u001b[0;34m.\u001b[0m\u001b[0msize\u001b[0m \u001b[0;34m==\u001b[0m \u001b[0;36m0\u001b[0m\u001b[0;34m:\u001b[0m\u001b[0;34m\u001b[0m\u001b[0;34m\u001b[0m\u001b[0m\n\u001b[1;32m   1874\u001b[0m             \u001b[0;32mreturn\u001b[0m\u001b[0;34m\u001b[0m\u001b[0;34m\u001b[0m\u001b[0m\n",
            "\u001b[0;32m/usr/local/lib/python3.7/dist-packages/matplotlib/lines.py\u001b[0m in \u001b[0;36mget_path\u001b[0;34m(self)\u001b[0m\n\u001b[1;32m   1025\u001b[0m         \"\"\"\n\u001b[1;32m   1026\u001b[0m         \u001b[0;32mif\u001b[0m \u001b[0mself\u001b[0m\u001b[0;34m.\u001b[0m\u001b[0m_invalidy\u001b[0m \u001b[0;32mor\u001b[0m \u001b[0mself\u001b[0m\u001b[0;34m.\u001b[0m\u001b[0m_invalidx\u001b[0m\u001b[0;34m:\u001b[0m\u001b[0;34m\u001b[0m\u001b[0;34m\u001b[0m\u001b[0m\n\u001b[0;32m-> 1027\u001b[0;31m             \u001b[0mself\u001b[0m\u001b[0;34m.\u001b[0m\u001b[0mrecache\u001b[0m\u001b[0;34m(\u001b[0m\u001b[0;34m)\u001b[0m\u001b[0;34m\u001b[0m\u001b[0;34m\u001b[0m\u001b[0m\n\u001b[0m\u001b[1;32m   1028\u001b[0m         \u001b[0;32mreturn\u001b[0m \u001b[0mself\u001b[0m\u001b[0;34m.\u001b[0m\u001b[0m_path\u001b[0m\u001b[0;34m\u001b[0m\u001b[0;34m\u001b[0m\u001b[0m\n\u001b[1;32m   1029\u001b[0m \u001b[0;34m\u001b[0m\u001b[0m\n",
            "\u001b[0;32m/usr/local/lib/python3.7/dist-packages/matplotlib/lines.py\u001b[0m in \u001b[0;36mrecache\u001b[0;34m(self, always)\u001b[0m\n\u001b[1;32m    673\u001b[0m         \u001b[0;32mif\u001b[0m \u001b[0malways\u001b[0m \u001b[0;32mor\u001b[0m \u001b[0mself\u001b[0m\u001b[0;34m.\u001b[0m\u001b[0m_invalidy\u001b[0m\u001b[0;34m:\u001b[0m\u001b[0;34m\u001b[0m\u001b[0;34m\u001b[0m\u001b[0m\n\u001b[1;32m    674\u001b[0m             \u001b[0myconv\u001b[0m \u001b[0;34m=\u001b[0m \u001b[0mself\u001b[0m\u001b[0;34m.\u001b[0m\u001b[0mconvert_yunits\u001b[0m\u001b[0;34m(\u001b[0m\u001b[0mself\u001b[0m\u001b[0;34m.\u001b[0m\u001b[0m_yorig\u001b[0m\u001b[0;34m)\u001b[0m\u001b[0;34m\u001b[0m\u001b[0;34m\u001b[0m\u001b[0m\n\u001b[0;32m--> 675\u001b[0;31m             \u001b[0my\u001b[0m \u001b[0;34m=\u001b[0m \u001b[0m_to_unmasked_float_array\u001b[0m\u001b[0;34m(\u001b[0m\u001b[0myconv\u001b[0m\u001b[0;34m)\u001b[0m\u001b[0;34m.\u001b[0m\u001b[0mravel\u001b[0m\u001b[0;34m(\u001b[0m\u001b[0;34m)\u001b[0m\u001b[0;34m\u001b[0m\u001b[0;34m\u001b[0m\u001b[0m\n\u001b[0m\u001b[1;32m    676\u001b[0m         \u001b[0;32melse\u001b[0m\u001b[0;34m:\u001b[0m\u001b[0;34m\u001b[0m\u001b[0;34m\u001b[0m\u001b[0m\n\u001b[1;32m    677\u001b[0m             \u001b[0my\u001b[0m \u001b[0;34m=\u001b[0m \u001b[0mself\u001b[0m\u001b[0;34m.\u001b[0m\u001b[0m_y\u001b[0m\u001b[0;34m\u001b[0m\u001b[0;34m\u001b[0m\u001b[0m\n",
            "\u001b[0;32m/usr/local/lib/python3.7/dist-packages/matplotlib/cbook/__init__.py\u001b[0m in \u001b[0;36m_to_unmasked_float_array\u001b[0;34m(x)\u001b[0m\n\u001b[1;32m   1315\u001b[0m         \u001b[0;32mreturn\u001b[0m \u001b[0mnp\u001b[0m\u001b[0;34m.\u001b[0m\u001b[0mma\u001b[0m\u001b[0;34m.\u001b[0m\u001b[0masarray\u001b[0m\u001b[0;34m(\u001b[0m\u001b[0mx\u001b[0m\u001b[0;34m,\u001b[0m \u001b[0mfloat\u001b[0m\u001b[0;34m)\u001b[0m\u001b[0;34m.\u001b[0m\u001b[0mfilled\u001b[0m\u001b[0;34m(\u001b[0m\u001b[0mnp\u001b[0m\u001b[0;34m.\u001b[0m\u001b[0mnan\u001b[0m\u001b[0;34m)\u001b[0m\u001b[0;34m\u001b[0m\u001b[0;34m\u001b[0m\u001b[0m\n\u001b[1;32m   1316\u001b[0m     \u001b[0;32melse\u001b[0m\u001b[0;34m:\u001b[0m\u001b[0;34m\u001b[0m\u001b[0;34m\u001b[0m\u001b[0m\n\u001b[0;32m-> 1317\u001b[0;31m         \u001b[0;32mreturn\u001b[0m \u001b[0mnp\u001b[0m\u001b[0;34m.\u001b[0m\u001b[0masarray\u001b[0m\u001b[0;34m(\u001b[0m\u001b[0mx\u001b[0m\u001b[0;34m,\u001b[0m \u001b[0mfloat\u001b[0m\u001b[0;34m)\u001b[0m\u001b[0;34m\u001b[0m\u001b[0;34m\u001b[0m\u001b[0m\n\u001b[0m\u001b[1;32m   1318\u001b[0m \u001b[0;34m\u001b[0m\u001b[0m\n\u001b[1;32m   1319\u001b[0m \u001b[0;34m\u001b[0m\u001b[0m\n",
            "\u001b[0;32m/usr/local/lib/python3.7/dist-packages/numpy/core/_asarray.py\u001b[0m in \u001b[0;36masarray\u001b[0;34m(a, dtype, order)\u001b[0m\n\u001b[1;32m     81\u001b[0m \u001b[0;34m\u001b[0m\u001b[0m\n\u001b[1;32m     82\u001b[0m     \"\"\"\n\u001b[0;32m---> 83\u001b[0;31m     \u001b[0;32mreturn\u001b[0m \u001b[0marray\u001b[0m\u001b[0;34m(\u001b[0m\u001b[0ma\u001b[0m\u001b[0;34m,\u001b[0m \u001b[0mdtype\u001b[0m\u001b[0;34m,\u001b[0m \u001b[0mcopy\u001b[0m\u001b[0;34m=\u001b[0m\u001b[0;32mFalse\u001b[0m\u001b[0;34m,\u001b[0m \u001b[0morder\u001b[0m\u001b[0;34m=\u001b[0m\u001b[0morder\u001b[0m\u001b[0;34m)\u001b[0m\u001b[0;34m\u001b[0m\u001b[0;34m\u001b[0m\u001b[0m\n\u001b[0m\u001b[1;32m     84\u001b[0m \u001b[0;34m\u001b[0m\u001b[0m\n\u001b[1;32m     85\u001b[0m \u001b[0;34m\u001b[0m\u001b[0m\n",
            "\u001b[0;31mValueError\u001b[0m: setting an array element with a sequence."
          ]
        },
        {
          "output_type": "display_data",
          "data": {
            "image/png": "[encoded data removed]",
            "text/plain": [
              "<Figure size 1440x720 with 1 Axes>"
            ]
          },
          "metadata": {
            "tags": [],
            "needs_background": "light"
          }
        }
      ]
    },
    {
      "cell_type": "code",
      "metadata": {
        "id": "32x9M36qq2fO"
      },
      "source": [
        "#implement silhouette method from scratch\n",
        "def silhouette():\n",
        "\n"
      ],
      "execution_count": null,
      "outputs": []
    },
    {
      "cell_type": "code",
      "metadata": {
        "id": "AW0iiyC6qDlb"
      },
      "source": [
        "#implement Kmeans from scratch\n",
        "# class Kmeans:\n",
        "\n",
        "#   def __init__(self):\n",
        "import matplotlib.pyplot as plt\n",
        "import numpy as np\n",
        "\n",
        "from matplotlib import style\n",
        "style.use('ggplot')\n",
        "\n",
        "class K_Means:\n",
        "    def __init__(self, d,c,k=10,tol=0.001, max_iter=100):\n",
        "        self.k = k\n",
        "        self.k = d\n",
        "        self.k = c\n",
        "        self.tol = tol\n",
        "        self.max_iter = max_iter\n",
        "\n",
        "    def fit(self,data):\n",
        "\n",
        "        self.centroids = []\n",
        "        np.random.seed(42)\n",
        "        # centroids = []\n",
        "        m = np.shape(data)[0]\n",
        "        ct = forgy_initialize(data,10)\n",
        "        for i in range(0,10):\n",
        "             r = np.random.randint(0, m-1)\n",
        "             self.centroids.append(ct[i])\n",
        "\n",
        "        # for i in range(self.k):\n",
        "        #     self.centroids[i] = data[i+100]\n",
        "            \n",
        "        # print(self.centroids)\n",
        "        for i in range(self.max_iter):\n",
        "            self.classifications = {}\n",
        "\n",
        "            for i in range(10):\n",
        "                self.classifications[i] = []\n",
        "                # print(self.classifications)\n",
        "\n",
        "            for featureset in data:\n",
        "                # distances = [np.sqrt((np.square(self.centroids[:,np.newaxis]-featureset).sum(axis=1)))]\n",
        "                distances = [np.linalg.norm(featureset-centroid) for centroid in self.centroids]\n",
        "                # print(distances)\n",
        "                classification = distances.index(min(distances))\n",
        "                # print(self.classifications[8])\n",
        "                self.classifications[int(classification)].append(featureset)\n",
        "\n",
        "            prev_centroids = self.centroids\n",
        "\n",
        "            for classification in self.classifications:\n",
        "                self.centroids[classification] = np.average(self.classifications[classification],axis=0)\n",
        "\n",
        "            optimized = True\n",
        "\n",
        "            for c in range(0,10):\n",
        "                print(\"hii \")\n",
        "                original_centroid = prev_centroids[c]\n",
        "                current_centroid = self.centroids[c]\n",
        "                print(original_centroid)\n",
        "                try:\n",
        "                  if np.sum((current_centroid-original_centroid)/original_centroid*100.0) > self.tol:\n",
        "                    # print(np.sum((current_centroid-original_centroid)/original_centroid*100.0))\n",
        "                    print('oo')\n",
        "                    optimized = False\n",
        "                except:\n",
        "                  1    \n",
        "\n",
        "            if optimized:\n",
        "                break\n",
        "\n",
        "    def predict(self,data):\n",
        "        # distances = [np.sqrt((np.square(self.centroids[:,np.newaxis]-featureset).sum(axis=1)))]\n",
        "        distances = [np.linalg.norm(data-centroid) for centroid in self.centroids]\n",
        "        classification = distances.index(min(distances))\n",
        "        return classification  "
      ],
      "execution_count": null,
      "outputs": []
    },
    {
      "cell_type": "code",
      "metadata": {
        "id": "h4dn0bULqg1I",
        "colab": {
          "base_uri": "https://localhost:8080/",
          "height": 132
        },
        "outputId": "b8abce20-6125-456d-febb-f0aa04e64588"
      },
      "source": [
        "#implement Kmeans++ from scratch\n",
        "# class Kmeansplusplus:\n",
        "\n",
        "#   def __init__(self,X,k):\n",
        "\n",
        "def Kmeansplusplus(X,k):\n",
        "    centroids = [] \n",
        "    centroids.append(data[np.random.randint( \n",
        "            data.shape[0]), :]) \n",
        "    ) \n",
        "   \n",
        "    ## compute remaining k - 1 centroids \n",
        "    for c_id in range(k - 1): \n",
        "          \n",
        "        ## initialize a list to store distances of data \n",
        "        ## points from nearest centroid \n",
        "        dist = [] \n",
        "        for i in range(data.shape[0]): \n",
        "            point = data[i, :] \n",
        "            d = sys.maxsize \n",
        "              \n",
        "            ## compute distance of 'point' from each of the previously \n",
        "            ## selected centroid and store the minimum distance \n",
        "            for j in range(len(centroids)): \n",
        "                temp_dist = distance(point, centroids[j]) \n",
        "                d = min(d, temp_dist) \n",
        "            dist.append(d) \n",
        "              \n",
        "        ## select data point with maximum distance as our next centroid \n",
        "        dist = np.array(dist) \n",
        "        next_centroid = data[np.argmax(dist), :] \n",
        "        centroids.append(next_centroid) \n",
        "        dist = [] \n",
        "        # plot(data, np.array(centroids)) \n",
        "    return centroids \n",
        " "
      ],
      "execution_count": 76,
      "outputs": [
        {
          "output_type": "error",
          "ename": "SyntaxError",
          "evalue": "ignored",
          "traceback": [
            "\u001b[0;36m  File \u001b[0;32m\"<ipython-input-76-9235e38afaf4>\"\u001b[0;36m, line \u001b[0;32m7\u001b[0m\n\u001b[0;31m    \u001b[0m\n\u001b[0m    ^\u001b[0m\n\u001b[0;31mSyntaxError\u001b[0m\u001b[0;31m:\u001b[0m unexpected EOF while parsing\n"
          ]
        }
      ]
    },
    {
      "cell_type": "code",
      "metadata": {
        "id": "Qw9mqPr8LeMl"
      },
      "source": [
        "\n",
        "#kmeans (param k)\n",
        "class kmeans:\n",
        "\n",
        "    def __init__(self, k,d,c_init):\n",
        "\n",
        "        self.k = k\n",
        "        self.d = d\n",
        "        self.c_init = c_init\n",
        "        self.centroids = None\n",
        "        self.labels = None\n",
        "    # def Kmeansplusplus(self,X):\n",
        "\n",
        "\n",
        "\n",
        "\n",
        "\n",
        "\n",
        "\n",
        "\n",
        "\n",
        "    def fit(self, X, max_iter=1000, seed=None):\n",
        "\n",
        "\n",
        "        # Convert training data to numpy array and find max values for RNG\n",
        "        # X = np.array(X)\n",
        "        max_val = X.max()\n",
        "\n",
        "        # Initialize centroids and prepare to count iterations\n",
        "        if self.c_init == 1:\n",
        "            centroids = np.array([max_val * np.random.random_sample(X.shape[1])for i in range(self.k)])\n",
        "        if self.c_init == 2:\n",
        "            centroids = forgy_initialize(X,self.k)\n",
        "        if self.c_init == 2:\n",
        "            centroids = random_partition(X,self.k)\n",
        "        if self.c_init == 3:\n",
        "            centroids = Kmeansplusplus(X,self.k)  \n",
        "              \n",
        "        print(centroids)\n",
        "        print(\"END###################################\")    \n",
        "        p_centroids = np.full(centroids.shape, -1)\n",
        "        iterations = 0\n",
        "        nd =0\n",
        "        while not self.Reached_End(p_centroids, centroids, iterations, max_iter):\n",
        "            # Update previous centroids and iterations\n",
        "            p_centroids = np.copy(centroids)\n",
        "            iterations = iterations + 1\n",
        "\n",
        "            if self.d ==1:\n",
        "                dist = ((X - centroids[:, np.newaxis])**2).sum(axis=2)\n",
        "            if self.d == 2:\n",
        "                dist = np.sqrt((np.square(centroids[:,np.newaxis]-X).sum(axis=2)))  \n",
        "            if self.d == 3:\n",
        "                dist = np.abs(centroids[:,None] - X).sum(-1)      \n",
        "            nd = nd+1           \n",
        "            #n print(dist)\n",
        "            labels = np.argmin(dist, axis=0)\n",
        "\n",
        "            # Update all centroids\n",
        "            self.Cal_Centroid(X, centroids, labels, max_val)\n",
        "\n",
        "        # Save centroids and labels\n",
        "        self.centroids = np.copy(centroids)\n",
        "        self.labels = np.copy(labels)\n",
        "        print(dist.shape)\n",
        "        # return self.labelsr\n",
        "\n",
        "    def predict(self, X):\n",
        "\n",
        "        if self.centroids is None:\n",
        "            raise ModelNotFitted(\"Model needs to be fitted to data\")\n",
        "\n",
        "        # Find distance from points to centroids and save closest as labels\n",
        "        if self.d == 1:\n",
        "            dist = ((X - self.centroids[:, np.newaxis])**2).sum(axis=2)\n",
        "        if self.d == 2:\n",
        "            dist = np.sqrt((np.square(self.centroids[:,np.newaxis]-X).sum(axis=2)))    \n",
        "        if self.d == 3:\n",
        "            dist = np.abs(centroids[:,None] - X).sum(-1)      \n",
        "        labels = np.argmin(dist, axis=0)\n",
        "        print(labels)\n",
        "\n",
        "        return labels\n",
        "\n",
        "    def Reached_End(self, p_centroids, centroids, iterations, max_iter):\n",
        "\n",
        "        # Reshape for comparison\n",
        "        p_centroids = p_centroids.reshape(-1)\n",
        "        centroids = centroids.reshape(-1)\n",
        "\n",
        "        # Return true if centroids didn't change or max iterations met\n",
        "        if np.allclose(p_centroids, centroids, atol=0.0001) or iterations >= max_iter:\n",
        "            return True\n",
        "\n",
        "        # Return false if conditions not met\n",
        "        return False\n",
        "\n",
        "    def Cal_Centroid(self, X, centroids, labels, max_val):\n",
        "        \"\"\"Updates centroids every iteration.\"\"\"\n",
        "        # If any centroid has no points, randomly reassign\n",
        "        empty_centroids = [i for i in range(self.k) if i not in np.unique(labels)]\n",
        "        for i in empty_centroids:\n",
        "            centroids[i] = max_val * np.random.random_sample(X.shape[1])\n",
        "\n",
        "        for i in range(len(centroids)):\n",
        "            if i not in empty_centroids:\n",
        "                centroids[i] = np.array(X[np.where(labels == i)].mean(axis=0))\n",
        "\n",
        "\n",
        "class ModelNotFitted(Exception):\n",
        "    \"\"\"\n",
        "    Exception raised when attempting to call a method before a model is fitted.\n",
        "    \"\"\"\n"
      ],
      "execution_count": 8,
      "outputs": []
    },
    {
      "cell_type": "code",
      "metadata": {
        "id": "EkNlH5-qivXT"
      },
      "source": [
        "def forgy_initialize(X, k):\n",
        "    return X[np.random.choice(range(X.shape[0]), replace = False, size = k), :]"
      ],
      "execution_count": 4,
      "outputs": []
    },
    {
      "cell_type": "code",
      "metadata": {
        "id": "9eFhS2-Tj197"
      },
      "source": [
        "def random_partition(X, k):\n",
        "      \n",
        "    indices = np.random.choice(range(0, k), replace = True, size = X.shape[0])\n",
        "    mean = []\n",
        "    for count in range(k):\n",
        "        mean.append(X[indices == count].mean(axis=0))\n",
        "        \n",
        "    return np.concatenate([val[ None, :] for val in mean], axis = 0)"
      ],
      "execution_count": 5,
      "outputs": []
    },
    {
      "cell_type": "code",
      "metadata": {
        "id": "6j7nYmipmrC6",
        "colab": {
          "base_uri": "https://localhost:8080/"
        },
        "outputId": "ee20de1c-499d-41ee-be96-30b86b3e234e"
      },
      "source": [
        "# Dataprocessing.\n",
        "from keras.datasets import fashion_mnist\n",
        "from sklearn.model_selection import train_test_split\n",
        "(trainX, trainy), (testX, testy) = fashion_mnist.load_data()\n",
        "X = np.concatenate((trainX,testX))\n",
        "Y = np.concatenate((trainy,testy))\n",
        "trainX,trainy,testX,testy = train_test_split(X,Y,test_size = 0.30, random_state=42)\n",
        "trainX = trainX.reshape(-1,trainX.shape[1]*trainX.shape[2])\n",
        "trainy = trainy.reshape(-1,trainy.shape[1]*trainy.shape[2])\n",
        "trainX = trainX.astype('float64')\n",
        "trainy = trainy.astype('float64')\n",
        "testX = testX.astype('float64')\n",
        "testy = testy.astype('float64')\n",
        "\n",
        "print(trainX.shape)\n",
        "print(trainy.shape)\n",
        "print(testX.shape)\n",
        "print(testy.shape)"
      ],
      "execution_count": 3,
      "outputs": [
        {
          "output_type": "stream",
          "text": [
            "Downloading data from https://storage.googleapis.com/tensorflow/tf-keras-datasets/train-labels-idx1-ubyte.gz\n",
            "32768/29515 [=================================] - 0s 0us/step\n",
            "Downloading data from https://storage.googleapis.com/tensorflow/tf-keras-datasets/train-images-idx3-ubyte.gz\n",
            "26427392/26421880 [==============================] - 0s 0us/step\n",
            "Downloading data from https://storage.googleapis.com/tensorflow/tf-keras-datasets/t10k-labels-idx1-ubyte.gz\n",
            "8192/5148 [===============================================] - 0s 0us/step\n",
            "Downloading data from https://storage.googleapis.com/tensorflow/tf-keras-datasets/t10k-images-idx3-ubyte.gz\n",
            "4423680/4422102 [==============================] - 0s 0us/step\n",
            "(49000, 784)\n",
            "(21000, 784)\n",
            "(49000,)\n",
            "(21000,)\n"
          ],
          "name": "stdout"
        }
      ]
    },
    {
      "cell_type": "code",
      "metadata": {
        "id": "YyRscLPRixhH"
      },
      "source": [
        "random_partition(trainy,10)"
      ],
      "execution_count": null,
      "outputs": []
    },
    {
      "cell_type": "code",
      "metadata": {
        "colab": {
          "base_uri": "https://localhost:8080/"
        },
        "id": "n_znifkyNnm9",
        "outputId": "a2007b67-2228-4a5e-80e4-3698542e61b2"
      },
      "source": [
        "model = kmeans(10,1,2)\n",
        "model.fit(trainX)\n",
        "\n",
        "# for centroid in model.centroids:\n",
        "#     plt.scatter(model.centroids[centroid][0], model.centroids[centroid][1],\n",
        "#                 marker=\"o\", s=150, linewidths=5)\n",
        "\n",
        "# for classification in model.classifications:\n",
        "#     color = colors[classification]\n",
        "#     for featureset in model.classifications[classification]:\n",
        "#         plt.scatter(featureset[0], featureset[1], marker=\"x\", color=color, s=150, linewidths=5)\n",
        "# for i in range(0,10):\n",
        "#     color = colors[i]\n",
        "#     for featureset in model.classifications[i]:\n",
        "#         plt.scatter(featureset[0], featureset[1], marker=\"x\", color=color, s=150, linewidths=5)\n",
        "# plt.show()\n"
      ],
      "execution_count": 86,
      "outputs": [
        {
          "output_type": "stream",
          "text": [
            "[[0.00000000e+00 3.09789343e-03 1.87938868e-02 ... 2.85873606e+00\n",
            "  7.95332507e-01 3.92399835e-02]\n",
            " [1.64406083e-03 5.95972051e-03 2.79490341e-02 ... 3.03164817e+00\n",
            "  9.97944924e-01 8.87792848e-02]\n",
            " [3.26197757e-03 9.78593272e-03 3.69011213e-02 ... 2.43873598e+00\n",
            "  6.57084608e-01 3.36391437e-02]\n",
            " ...\n",
            " [2.00601805e-04 9.02708124e-03 5.31594784e-02 ... 2.53921765e+00\n",
            "  8.68405216e-01 1.45235707e-01]\n",
            " [0.00000000e+00 1.37791287e-02 8.10536981e-02 ... 3.12482270e+00\n",
            "  9.42046606e-01 4.88348531e-02]\n",
            " [0.00000000e+00 4.94845361e-03 1.91752577e-02 ... 2.65463918e+00\n",
            "  7.92577320e-01 1.12577320e-01]]\n",
            "END###################################\n",
            "(10, 49000)\n"
          ],
          "name": "stdout"
        }
      ]
    },
    {
      "cell_type": "code",
      "metadata": {
        "id": "DyhkdOttaFfn"
      },
      "source": [
        "model = K_Means(1,1,10)\n",
        "model.fit(trainX)"
      ],
      "execution_count": null,
      "outputs": []
    },
    {
      "cell_type": "code",
      "metadata": {
        "id": "iC-w8fOvSuH_"
      },
      "source": [
        "testX.shape"
      ],
      "execution_count": null,
      "outputs": []
    },
    {
      "cell_type": "code",
      "metadata": {
        "id": "8Mo7UPmrf-OP"
      },
      "source": [
        "p = []\n",
        "# p = model.predict(trainy)\n",
        "for i in range(len(trainy)):\n",
        "  p.append(model.predict(trainy[i]))\n",
        "# for i in range(len(trainX)):  \n",
        "#   print(testy[i],p[i])\n",
        "\n",
        "# (p.shape)\n",
        "# trainX.shape\n",
        "# model.classifications"
      ],
      "execution_count": null,
      "outputs": []
    },
    {
      "cell_type": "code",
      "metadata": {
        "colab": {
          "base_uri": "https://localhost:8080/"
        },
        "id": "C1R6y0srCQRU",
        "outputId": "f897ee9b-19a5-4a67-8050-57b8be3c9c13"
      },
      "source": [
        "# p1 = p.flatten()\n",
        "p1 = np.array(p)\n",
        "p2 = p1.flatten()\n",
        "p2[0]"
      ],
      "execution_count": null,
      "outputs": [
        {
          "output_type": "execute_result",
          "data": {
            "text/plain": [
              "1"
            ]
          },
          "metadata": {
            "tags": []
          },
          "execution_count": 10
        }
      ]
    },
    {
      "cell_type": "code",
      "metadata": {
        "colab": {
          "base_uri": "https://localhost:8080/"
        },
        "id": "ilmjqPLiiCqX",
        "outputId": "bbefed92-7e0f-4e7f-8e27-268ce6254951"
      },
      "source": [
        "from sklearn.metrics.cluster import homogeneity_score\n",
        "print(homogeneity_score(testy,p2))\n"
      ],
      "execution_count": null,
      "outputs": [
        {
          "output_type": "stream",
          "text": [
            "0.5017072841471376\n"
          ],
          "name": "stdout"
        }
      ]
    },
    {
      "cell_type": "code",
      "metadata": {
        "id": "UqHDCZ6SAwRA"
      },
      "source": [
        "a=0\n",
        "for i in range(len(trainX)):\n",
        "  print(p[i],int(testX[i]) )\n",
        "  if p[i] == int(testX[i]):\n",
        "    a = a+1\n"
      ],
      "execution_count": null,
      "outputs": []
    },
    {
      "cell_type": "code",
      "metadata": {
        "id": "5S03tB5MDVrs"
      },
      "source": [
        "from sklearn.metrics import accuracy_score\n",
        "\n",
        "a = accuracy_score(testX,p)\n",
        "a*100\n",
        "m  "
      ],
      "execution_count": null,
      "outputs": []
    },
    {
      "cell_type": "code",
      "metadata": {
        "id": "VGQ39wqH21_Z"
      },
      "source": [
        "trainX = trainX[:10000]\n",
        "l = model.labels\n",
        "l = l[:10000]\n"
      ],
      "execution_count": null,
      "outputs": []
    },
    {
      "cell_type": "code",
      "metadata": {
        "id": "y_vO1aVAEZ_I"
      },
      "source": [
        "plt.figure(figsize=(15,10))\n",
        "plt.scatter(trainX[:,0],trainX[:,1])\n",
        "plt.show()"
      ],
      "execution_count": null,
      "outputs": []
    },
    {
      "cell_type": "code",
      "metadata": {
        "id": "yeZhlgsQza92"
      },
      "source": [
        "from sklearn.manifold import TSNE\n",
        "tsne = TSNE()\n",
        "xe = tsne.fit_transform(trainX)"
      ],
      "execution_count": null,
      "outputs": []
    },
    {
      "cell_type": "code",
      "metadata": {
        "colab": {
          "base_uri": "https://localhost:8080/",
          "height": 337
        },
        "id": "yusxlKhb4TGh",
        "outputId": "93747045-f1a7-4963-9ce5-52d635ef3a3a"
      },
      "source": [
        "palette = sns.color_palette(\"bright\",10)\n",
        "sns.scatterplot(xe[:,0],xe[:,1],hue=l,legend='full',palette=palette)"
      ],
      "execution_count": null,
      "outputs": [
        {
          "output_type": "stream",
          "text": [
            "/usr/local/lib/python3.7/dist-packages/seaborn/_decorators.py:43: FutureWarning: Pass the following variables as keyword args: x, y. From version 0.12, the only valid positional argument will be `data`, and passing other arguments without an explicit keyword will result in an error or misinterpretation.\n",
            "  FutureWarning\n"
          ],
          "name": "stderr"
        },
        {
          "output_type": "execute_result",
          "data": {
            "text/plain": [
              "<matplotlib.axes._subplots.AxesSubplot at 0x7f23e3a28190>"
            ]
          },
          "metadata": {
            "tags": []
          },
          "execution_count": 18
        },
        {
          "output_type": "display_data",
          "data": {
            "image/png": "[encoded data removed]",
            "text/plain": [
              "<Figure size 432x288 with 1 Axes>"
            ]
          },
          "metadata": {
            "tags": []
          }
        }
      ]
    },
    {
      "cell_type": "markdown",
      "metadata": {
        "id": "c1oZmSOZ2bgz"
      },
      "source": [
        "Part2"
      ]
    },
    {
      "cell_type": "code",
      "metadata": {
        "colab": {
          "base_uri": "https://localhost:8080/"
        },
        "id": "xyQFYyes2Xr5",
        "outputId": "175a03e4-d769-422f-8ad6-f4a6cc665851"
      },
      "source": [
        "data = pd.read_csv(\"data.csv\",header = None)\n",
        "data[191] = data[191].str.replace(']','').astype(np.float64)\n",
        "data[0] = data[0].str.replace('[','').astype(np.float64)\n",
        "X = np.array(data.iloc[:,:192])\n",
        "Y = np.array(data.iloc[:,192])\n",
        "trainX,testX,trainY,testY = train_test_split(X.astype('float32'),Y,test_size = 0.30,random_state=42)\n",
        "\n",
        "print(trainX.shape)\n",
        "print(trainY.shape)\n",
        "print(testX.shape)\n",
        "print(testY.shape)"
      ],
      "execution_count": 65,
      "outputs": [
        {
          "output_type": "stream",
          "text": [
            "(42000, 192)\n",
            "(42000,)\n",
            "(18000, 192)\n",
            "(18000,)\n"
          ],
          "name": "stdout"
        }
      ]
    },
    {
      "cell_type": "code",
      "metadata": {
        "id": "_scZf9d8-nPL"
      },
      "source": [
        "LS_model = kmeans(10,1,2)\n",
        "LS_model.fit(trainX)"
      ],
      "execution_count": null,
      "outputs": []
    },
    {
      "cell_type": "code",
      "metadata": {
        "id": "9QmqMsk9_5FF"
      },
      "source": [
        "LS_p = []\n",
        "# p = model.predict(trainy)\n",
        "for i in range(len(testX)):\n",
        "  LS_p.append(LS_model.predict(testX[i]))"
      ],
      "execution_count": null,
      "outputs": []
    },
    {
      "cell_type": "code",
      "metadata": {
        "colab": {
          "base_uri": "https://localhost:8080/"
        },
        "id": "SMw0yMzCCi4b",
        "outputId": "ad2573fd-f2ec-4ac4-d5b1-7234cbed3405"
      },
      "source": [
        "ll = np.array(LS_p)\n",
        "ll = ll.flatten()\n",
        "print(homogeneity_score(testY,ll))"
      ],
      "execution_count": 75,
      "outputs": [
        {
          "output_type": "stream",
          "text": [
            "0.4733123810304045\n"
          ],
          "name": "stdout"
        }
      ]
    }
  ]
}
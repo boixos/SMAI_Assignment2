{
  "nbformat": 4,
  "nbformat_minor": 0,
  "metadata": {
    "kernelspec": {
      "display_name": "Python 3",
      "language": "python",
      "name": "python3"
    },
    "language_info": {
      "codemirror_mode": {
        "name": "ipython",
        "version": 3
      },
      "file_extension": ".py",
      "mimetype": "text/x-python",
      "name": "python",
      "nbconvert_exporter": "python",
      "pygments_lexer": "ipython3",
      "version": "3.8.5"
    },
    "colab": {
      "name": "question2_part1.ipynb",
      "provenance": []
    }
  },
  "cells": [
    {
      "cell_type": "markdown",
      "metadata": {
        "id": "w-_ZXwVrXh-t"
      },
      "source": [
        "You need to implement Logistic Regression from scratch in this question"
      ]
    },
    {
      "cell_type": "markdown",
      "metadata": {
        "id": "VApV2bdIXh-0"
      },
      "source": [
        "1. You are provided with the dataset of sign language digits. Implement logistic regression from scratch to classify the images provided in the dataset. Load the dataset and perform splitting into training and test sets with 70:30 ratio randomly using test train split.\n",
        "2. Plot a diagram for the sigmoid function. This is used for binary classi\u0000cation. How do you modify it for multilabel dataset classification problems? State and Explain the methods used.\n",
        "3. Use both one vs all and one vs one method for the above problem statement purpose.\n",
        "4. Also get results using Log Reg from scikit learn.\n",
        "5. Report accuracy score, Confusion matrix and any other metrics you feel useful and Compare the results - from all the three.\n",
        "\n",
        "\n",
        "\n",
        "[BONUS]\n",
        "6. Display few pictures with their predicted and original labels \n",
        "7. Do the results differ? State the reasons why it is so.\n"
      ]
    },
    {
      "cell_type": "markdown",
      "metadata": {
        "id": "sLjVygtyXh-2"
      },
      "source": [
        "dataset link : \n",
        "https://iiitaphyd-my.sharepoint.com/:f:/g/personal/apurva_jadhav_students_iiit_ac_in/Eictt5_qmoxNqezgQQiMWeIBph4sxlfA6jWAJNPnV2SF9Q?e=mQmYN0 \n",
        "\n",
        "                "
      ]
    },
    {
      "cell_type": "code",
      "metadata": {
        "id": "LifijI3YXh-2"
      },
      "source": [
        "import pandas as pd\n",
        "import numpy as np\n",
        "import matplotlib.pyplot as plt\n",
        "from sklearn.model_selection import train_test_split"
      ],
      "execution_count": 2,
      "outputs": []
    },
    {
      "cell_type": "code",
      "metadata": {
        "id": "s1pUsM4BXh-3"
      },
      "source": [
        "X = np.load(\"X.npy\") # image\n",
        "y = np.load(\"Y.npy\") # label"
      ],
      "execution_count": 3,
      "outputs": []
    },
    {
      "cell_type": "code",
      "metadata": {
        "id": "YcpWAYQwXh-3"
      },
      "source": [
        "# one hot encoding to normal\n",
        "y_label = []\n",
        "for i in y:\n",
        "    y_label.append(np.argmax(i))\n",
        "y_label = np.array(y_label)"
      ],
      "execution_count": 5,
      "outputs": []
    },
    {
      "cell_type": "code",
      "metadata": {
        "id": "cRcLOsUfXh-4",
        "colab": {
          "base_uri": "https://localhost:8080/"
        },
        "outputId": "f27f5da3-5a45-44f9-b197-882bd856cf25"
      },
      "source": [
        "X_original = X\n",
        "X = np.reshape(X, (X.shape[0], -1))\n",
        "X.shape,y.shape"
      ],
      "execution_count": 6,
      "outputs": [
        {
          "output_type": "execute_result",
          "data": {
            "text/plain": [
              "((2062, 4096), (2062, 10))"
            ]
          },
          "metadata": {
            "tags": []
          },
          "execution_count": 6
        }
      ]
    },
    {
      "cell_type": "code",
      "metadata": {
        "id": "HetPvvcGXh-5"
      },
      "source": [
        "#appending biasing in the matirx X\n",
        "ones = np.ones((X.shape[0],1))\n",
        "X = np.hstack((ones,X))"
      ],
      "execution_count": 7,
      "outputs": []
    },
    {
      "cell_type": "code",
      "metadata": {
        "id": "Jrr9l39FXh-6"
      },
      "source": [
        "#splitting into train and test set\n",
        "X_train, X_test, y_train, y_test = train_test_split(X,y, test_size = 0.30, random_state = 50)"
      ],
      "execution_count": 8,
      "outputs": []
    },
    {
      "cell_type": "code",
      "metadata": {
        "id": "xFIvAUcvXh-6",
        "colab": {
          "base_uri": "https://localhost:8080/"
        },
        "outputId": "b249137e-de26-4a40-a2cb-bab5c7a6d253"
      },
      "source": [
        "print(X_train.shape,y_train.shape)\n",
        "print(X_test.shape,y_test.shape)"
      ],
      "execution_count": 9,
      "outputs": [
        {
          "output_type": "stream",
          "text": [
            "(1443, 4097) (1443, 10)\n",
            "(619, 4097) (619, 10)\n"
          ],
          "name": "stdout"
        }
      ]
    },
    {
      "cell_type": "code",
      "metadata": {
        "id": "MpF9cpDyXh-7"
      },
      "source": [
        "# def logistic_reg_ova(X_train, y_train, learning_rate = 0.03, no_of_iterations = 100):\n",
        "m = X_train.shape[0]\n",
        "#define theta with size 10x4097 and take the initial value as 0\n",
        "theta = np.zeros((y_train.shape[1],X_train.shape[1]))\n",
        "learning_rate = 0.03\n",
        "no_of_iterations = 10000\n",
        "\n",
        "cost_arr = np.empty((0,y_train.shape[1]))\n",
        "\n",
        "for i in range(no_of_iterations):\n",
        "\n",
        "    #model/hypothesis function\n",
        "    lineq = np.dot(X_train, theta.T)\n",
        "    # sigmoid function\n",
        "    h = 1 / (1 + np.exp(-lineq))\n",
        "\n",
        "    #cost function -1/m * sum (y log h + (1-y)log(1-h)) for each class\n",
        "    cost = -1/m * ((y_train * np.log(h)) + ((1-y_train) * np.log(1-h)))\n",
        "    cost = cost.sum(axis = 0)\n",
        "    cost_arr = np.vstack((cost_arr, cost))\n",
        "\n",
        "    theta -= (learning_rate/m) * np.dot((h-y_train).T, X_train)\n"
      ],
      "execution_count": 10,
      "outputs": []
    },
    {
      "cell_type": "code",
      "metadata": {
        "id": "nyuuyszuXh-8",
        "colab": {
          "base_uri": "https://localhost:8080/",
          "height": 264
        },
        "outputId": "dc818666-0997-4565-a2ce-12ab5dd0381b"
      },
      "source": [
        "plt.plot(cost_arr[:,0], label='class 0', c='red')\n",
        "plt.plot(cost_arr[:,1], label='class 1', c='green')\n",
        "plt.plot(cost_arr[:,2], label='class 2', c='blue')\n",
        "plt.plot(cost_arr[:,3], label='class 3', c='brown')\n",
        "plt.plot(cost_arr[:,4], label='class 4', c='black')\n",
        "plt.show()"
      ],
      "execution_count": 11,
      "outputs": [
        {
          "output_type": "display_data",
          "data": {
            "image/png": "[encoded data removed]",
            "text/plain": [
              "<Figure size 432x288 with 1 Axes>"
            ]
          },
          "metadata": {
            "tags": [],
            "needs_background": "light"
          }
        }
      ]
    },
    {
      "cell_type": "code",
      "metadata": {
        "id": "LlcA0uyyXh-8",
        "colab": {
          "base_uri": "https://localhost:8080/",
          "height": 264
        },
        "outputId": "23553482-275d-4027-b713-70a61e434d29"
      },
      "source": [
        "\n",
        "plt.plot(cost_arr[:,5], label='class 5', c='black')\n",
        "plt.plot(cost_arr[:,6], label='class 7', c='orange')\n",
        "plt.plot(cost_arr[:,7], label='class 8', c='cyan')\n",
        "plt.plot(cost_arr[:,8], label='class 9', c='red')\n",
        "plt.plot(cost_arr[:,9], label='class 10', c='blue')\n",
        "plt.show()"
      ],
      "execution_count": 12,
      "outputs": [
        {
          "output_type": "display_data",
          "data": {
            "image/png": "[encoded data removed]",
            "text/plain": [
              "<Figure size 432x288 with 1 Axes>"
            ]
          },
          "metadata": {
            "tags": [],
            "needs_background": "light"
          }
        }
      ]
    },
    {
      "cell_type": "code",
      "metadata": {
        "id": "QlnpOK8y_kLw"
      },
      "source": [
        "def sigmoid(x):\n",
        "  return 1/(1+np.exp(-x))"
      ],
      "execution_count": 13,
      "outputs": []
    },
    {
      "cell_type": "code",
      "metadata": {
        "id": "QElUFOODXh-9"
      },
      "source": [
        "#predict \n",
        "model_predict = sigmoid(np.dot(X_test, theta.T))\n"
      ],
      "execution_count": 14,
      "outputs": []
    },
    {
      "cell_type": "code",
      "metadata": {
        "id": "P-u_q7reXh-9",
        "colab": {
          "base_uri": "https://localhost:8080/"
        },
        "outputId": "9af9ec21-598e-425b-aa88-6962bd7e475a"
      },
      "source": [
        "model_predict[0]"
      ],
      "execution_count": 15,
      "outputs": [
        {
          "output_type": "execute_result",
          "data": {
            "text/plain": [
              "array([1.30232243e-06, 5.20951435e-04, 4.38450856e-04, 3.47142500e-01,\n",
              "       8.13199480e-01, 1.00781565e-06, 4.84691065e-07, 8.63758955e-03,\n",
              "       8.79414710e-01, 2.06680285e-04])"
            ]
          },
          "metadata": {
            "tags": []
          },
          "execution_count": 15
        }
      ]
    },
    {
      "cell_type": "code",
      "metadata": {
        "id": "w8cBv9hyXh-9"
      },
      "source": [
        "# one hot encoding to normal. pred stores index of largest element in i which corresponds to class of the data\n",
        "def one_hot_enc_to_normal(numpyarr):\n",
        "    pred = []\n",
        "    for i in numpyarr:\n",
        "        pred.append(np.argmax(i))\n",
        "    pred = np.array(pred)\n",
        "    return pred"
      ],
      "execution_count": 16,
      "outputs": []
    },
    {
      "cell_type": "code",
      "metadata": {
        "id": "6eROj9lFXh--"
      },
      "source": [
        "pred_labels = one_hot_enc_to_normal(model_predict)"
      ],
      "execution_count": 17,
      "outputs": []
    },
    {
      "cell_type": "code",
      "metadata": {
        "id": "bNmWylNgXh--"
      },
      "source": [
        "y_test_label = one_hot_enc_to_normal(y_test)\n"
      ],
      "execution_count": 18,
      "outputs": []
    },
    {
      "cell_type": "code",
      "metadata": {
        "id": "NvdGEsNZXh-_",
        "colab": {
          "base_uri": "https://localhost:8080/"
        },
        "outputId": "89925825-0355-488c-d5db-ade0f3851245"
      },
      "source": [
        "print(y_test_label[:10])\n",
        "print(pred_labels[:10])\n",
        "accuracy1 = (pred_labels == y_test_label).mean()\n",
        "print(\"accuracy of the model using one vs rest is\",accuracy1)"
      ],
      "execution_count": 19,
      "outputs": [
        {
          "output_type": "stream",
          "text": [
            "[8 0 5 4 0 4 6 1 0 3]\n",
            "[8 0 5 8 0 4 3 1 0 3]\n",
            "accuracy of the model using one vs rest is 0.7641357027463651\n"
          ],
          "name": "stdout"
        }
      ]
    },
    {
      "cell_type": "code",
      "metadata": {
        "id": "PNWKi34xXh-_",
        "colab": {
          "base_uri": "https://localhost:8080/"
        },
        "outputId": "28b7386f-3313-48bc-85c7-5062b0b6a6b8"
      },
      "source": [
        "from sklearn.metrics import confusion_matrix\n",
        "confusion_matrix(y_test_label, pred_labels)"
      ],
      "execution_count": 21,
      "outputs": [
        {
          "output_type": "execute_result",
          "data": {
            "text/plain": [
              "array([[60,  0,  0,  1,  1,  3,  0,  2,  1,  2],\n",
              "       [ 4, 52,  0,  2,  3,  3,  1,  0,  0,  0],\n",
              "       [ 1,  1, 27,  1,  3,  4,  0,  0, 11,  0],\n",
              "       [ 0,  1,  1, 43,  1,  1,  3,  1,  9,  0],\n",
              "       [ 0,  0,  0,  0, 49,  1,  0,  0, 15,  0],\n",
              "       [ 4,  0,  2,  2,  2, 48,  0,  0,  2,  0],\n",
              "       [ 4,  1,  3, 11,  0,  3, 21,  0,  3,  5],\n",
              "       [ 0,  0,  1,  0,  2,  1,  0, 62,  4,  1],\n",
              "       [ 0,  1,  1,  6,  2,  1,  0,  0, 54,  0],\n",
              "       [ 2,  0,  0,  0,  0,  0,  0,  5,  0, 57]])"
            ]
          },
          "metadata": {
            "tags": []
          },
          "execution_count": 21
        }
      ]
    },
    {
      "cell_type": "code",
      "metadata": {
        "id": "alYVanVVXh-_",
        "colab": {
          "base_uri": "https://localhost:8080/"
        },
        "outputId": "4c403e7c-3f07-427b-b6bc-25fe21f145ef"
      },
      "source": [
        "from sklearn import datasets\n",
        "from sklearn import model_selection\n",
        "from sklearn import linear_model\n",
        "from sklearn import metrics\n",
        "y_temp = [np.where(r==1)[0][0] for r in y]\n",
        "y_temp = np.array(y_temp)\n",
        "y_temp_train = [np.where(r==1)[0][0] for r in y_train]\n",
        "y_temp_train = np.array(y_temp_train)\n",
        "y_temp_test = y_test_label\n",
        "lm = linear_model.LogisticRegression(multi_class='ovr', solver='liblinear')\n",
        "lm.fit(X_train, y_temp_train)"
      ],
      "execution_count": 22,
      "outputs": [
        {
          "output_type": "execute_result",
          "data": {
            "text/plain": [
              "LogisticRegression(C=1.0, class_weight=None, dual=False, fit_intercept=True,\n",
              "                   intercept_scaling=1, l1_ratio=None, max_iter=100,\n",
              "                   multi_class='ovr', n_jobs=None, penalty='l2',\n",
              "                   random_state=None, solver='liblinear', tol=0.0001, verbose=0,\n",
              "                   warm_start=False)"
            ]
          },
          "metadata": {
            "tags": []
          },
          "execution_count": 22
        }
      ]
    },
    {
      "cell_type": "code",
      "metadata": {
        "id": "hSX5xAl4Xh_A"
      },
      "source": [
        "sk_predict = lm.predict(X_test)"
      ],
      "execution_count": 23,
      "outputs": []
    },
    {
      "cell_type": "code",
      "metadata": {
        "id": "qbtHAt1gXh_A",
        "colab": {
          "base_uri": "https://localhost:8080/"
        },
        "outputId": "d6e6886c-b552-4bc6-b34c-824d3316e0d7"
      },
      "source": [
        "# model score aka accuracy of our model. y_prediction is made internally\n",
        "lm.score(X_test, y_temp_test)"
      ],
      "execution_count": 24,
      "outputs": [
        {
          "output_type": "execute_result",
          "data": {
            "text/plain": [
              "0.7576736672051696"
            ]
          },
          "metadata": {
            "tags": []
          },
          "execution_count": 24
        }
      ]
    },
    {
      "cell_type": "code",
      "metadata": {
        "id": "4laHueOMXh_B",
        "colab": {
          "base_uri": "https://localhost:8080/",
          "height": 582
        },
        "outputId": "05e50abc-6c55-4b00-e218-2cd53acad391"
      },
      "source": [
        "#Creating matplotlib axes object to assign figuresize and figure title\n",
        "fig, ax = plt.subplots(figsize=(10, 6))\n",
        "ax.set_title('Confusion Matrx')\n",
        "\n",
        "disp = metrics.plot_confusion_matrix(lm, X_test, y_temp_test, ax = ax)\n",
        "disp.confusion_matrix"
      ],
      "execution_count": 25,
      "outputs": [
        {
          "output_type": "execute_result",
          "data": {
            "text/plain": [
              "array([[58,  0,  0,  1,  1,  4,  2,  2,  0,  2],\n",
              "       [ 4, 51,  0,  1,  4,  1,  4,  0,  0,  0],\n",
              "       [ 1,  1, 31,  1,  3,  2,  4,  0,  5,  0],\n",
              "       [ 0,  1,  3, 39,  1,  1, 10,  1,  4,  0],\n",
              "       [ 1,  0,  2,  0, 54,  1,  1,  0,  6,  0],\n",
              "       [ 3,  0,  6,  2,  1, 44,  1,  1,  2,  0],\n",
              "       [ 0,  0,  5,  8,  0,  1, 36,  0,  0,  1],\n",
              "       [ 0,  0,  3,  0,  1,  1,  0, 59,  4,  3],\n",
              "       [ 0,  2,  4,  8,  4,  1,  0,  3, 43,  0],\n",
              "       [ 3,  0,  0,  0,  0,  0,  3,  4,  0, 54]])"
            ]
          },
          "metadata": {
            "tags": []
          },
          "execution_count": 25
        },
        {
          "output_type": "display_data",
          "data": {
            "image/png": "[encoded data removed]",
            "text/plain": [
              "<Figure size 720x432 with 2 Axes>"
            ]
          },
          "metadata": {
            "tags": [],
            "needs_background": "light"
          }
        }
      ]
    },
    {
      "cell_type": "code",
      "metadata": {
        "id": "u7cK9p84Xh_B",
        "colab": {
          "base_uri": "https://localhost:8080/"
        },
        "outputId": "1e0a2c12-9f2d-4926-849f-26ac96e7bc15"
      },
      "source": [
        "#classification report\n",
        "print(metrics.classification_report(y_temp_test, sk_predict))"
      ],
      "execution_count": 26,
      "outputs": [
        {
          "output_type": "stream",
          "text": [
            "              precision    recall  f1-score   support\n",
            "\n",
            "           0       0.83      0.83      0.83        70\n",
            "           1       0.93      0.78      0.85        65\n",
            "           2       0.57      0.65      0.61        48\n",
            "           3       0.65      0.65      0.65        60\n",
            "           4       0.78      0.83      0.81        65\n",
            "           5       0.79      0.73      0.76        60\n",
            "           6       0.59      0.71      0.64        51\n",
            "           7       0.84      0.83      0.84        71\n",
            "           8       0.67      0.66      0.67        65\n",
            "           9       0.90      0.84      0.87        64\n",
            "\n",
            "    accuracy                           0.76       619\n",
            "   macro avg       0.76      0.75      0.75       619\n",
            "weighted avg       0.77      0.76      0.76       619\n",
            "\n"
          ],
          "name": "stdout"
        }
      ]
    },
    {
      "cell_type": "code",
      "metadata": {
        "id": "UHkf2nFMXh_C",
        "colab": {
          "base_uri": "https://localhost:8080/"
        },
        "outputId": "3d485905-f26f-4b85-c199-6597a2f8a707"
      },
      "source": [
        "from sklearn.metrics import mean_squared_error, explained_variance_score\n",
        "\n",
        "print('\\nOur Model')\n",
        "#coefficients\n",
        "print('Coefficients: {}'.format(theta))\n",
        "# The mean squared error\n",
        "print(\"Mean squared error: %.2f\" % mean_squared_error(pred_labels, y_test_label))\n",
        "# Explained variance score: 1 is perfect prediction\n",
        "print('Variance score: %.2f' % explained_variance_score(y_test_label, pred_labels))\n",
        "print('Accuracy: {}'.format(accuracy1))"
      ],
      "execution_count": 28,
      "outputs": [
        {
          "output_type": "stream",
          "text": [
            "\n",
            "Our Model\n",
            "Coefficients: [[-0.0221572   0.03278775  0.03665333 ...  0.01022987  0.00530917\n",
            "   0.00460133]\n",
            " [-0.0775638   0.06269735  0.06628614 ... -0.03934033 -0.03834489\n",
            "  -0.03552179]\n",
            " [-0.12920833  0.07111915  0.08070334 ...  0.01054981  0.01199856\n",
            "   0.00676905]\n",
            " ...\n",
            " [-0.11489965  0.03187422  0.03528793 ...  0.00925542  0.01715461\n",
            "   0.01827145]\n",
            " [-0.15446163 -0.02860546 -0.02842778 ...  0.06207856  0.07739337\n",
            "   0.05930979]\n",
            " [-0.01830827  0.00759138  0.00327016 ...  0.02167107  0.01822207\n",
            "   0.01844258]]\n",
            "Mean squared error: 4.10\n",
            "Variance score: 0.53\n",
            "Accuracy: 0.7641357027463651\n"
          ],
          "name": "stdout"
        }
      ]
    },
    {
      "cell_type": "code",
      "metadata": {
        "id": "I33ADlNlXh_D",
        "colab": {
          "base_uri": "https://localhost:8080/",
          "height": 925
        },
        "outputId": "51e241b8-bd56-4baa-b005-8c0031fcf091"
      },
      "source": [
        "#Visualize predictions\n",
        "L = 5\n",
        "W = 5\n",
        "\n",
        "fig, axes = plt.subplots(L, W, figsize = (12,12))\n",
        "axes = axes.ravel()\n",
        "X_test = X_test[:,1:]\n",
        "for i in np.arange(0, L * W):  \n",
        "    axes[i].imshow(X_test[i].reshape(64,64))\n",
        "    axes[i].set_title(f\"Prediction Class = {pred_labels[i]:0.1f}\\n True Class = {y_test_label[i]:0.1f}\")\n",
        "    axes[i].axis('off')\n",
        "plt.subplots_adjust(wspace=0.5)"
      ],
      "execution_count": 31,
      "outputs": [
        {
          "output_type": "error",
          "ename": "ValueError",
          "evalue": "ignored",
          "traceback": [
            "\u001b[0;31m---------------------------------------------------------------------------\u001b[0m",
            "\u001b[0;31mValueError\u001b[0m                                Traceback (most recent call last)",
            "\u001b[0;32m<ipython-input-31-89a47e40ce63>\u001b[0m in \u001b[0;36m<module>\u001b[0;34m()\u001b[0m\n\u001b[1;32m      7\u001b[0m \u001b[0;31m# X_test = X_test[:,1:]\u001b[0m\u001b[0;34m\u001b[0m\u001b[0;34m\u001b[0m\u001b[0;34m\u001b[0m\u001b[0m\n\u001b[1;32m      8\u001b[0m \u001b[0;32mfor\u001b[0m \u001b[0mi\u001b[0m \u001b[0;32min\u001b[0m \u001b[0mnp\u001b[0m\u001b[0;34m.\u001b[0m\u001b[0marange\u001b[0m\u001b[0;34m(\u001b[0m\u001b[0;36m0\u001b[0m\u001b[0;34m,\u001b[0m \u001b[0mL\u001b[0m \u001b[0;34m*\u001b[0m \u001b[0mW\u001b[0m\u001b[0;34m)\u001b[0m\u001b[0;34m:\u001b[0m\u001b[0;34m\u001b[0m\u001b[0;34m\u001b[0m\u001b[0m\n\u001b[0;32m----> 9\u001b[0;31m     \u001b[0maxes\u001b[0m\u001b[0;34m[\u001b[0m\u001b[0mi\u001b[0m\u001b[0;34m]\u001b[0m\u001b[0;34m.\u001b[0m\u001b[0mimshow\u001b[0m\u001b[0;34m(\u001b[0m\u001b[0mX_test\u001b[0m\u001b[0;34m[\u001b[0m\u001b[0mi\u001b[0m\u001b[0;34m]\u001b[0m\u001b[0;34m.\u001b[0m\u001b[0mreshape\u001b[0m\u001b[0;34m(\u001b[0m\u001b[0;36m64\u001b[0m\u001b[0;34m,\u001b[0m\u001b[0;36m64\u001b[0m\u001b[0;34m)\u001b[0m\u001b[0;34m)\u001b[0m\u001b[0;34m\u001b[0m\u001b[0;34m\u001b[0m\u001b[0m\n\u001b[0m\u001b[1;32m     10\u001b[0m     \u001b[0maxes\u001b[0m\u001b[0;34m[\u001b[0m\u001b[0mi\u001b[0m\u001b[0;34m]\u001b[0m\u001b[0;34m.\u001b[0m\u001b[0mset_title\u001b[0m\u001b[0;34m(\u001b[0m\u001b[0;34mf\"Prediction Class = {pred_labels[i]:0.1f}\\n True Class = {y_test_label[i]:0.1f}\"\u001b[0m\u001b[0;34m)\u001b[0m\u001b[0;34m\u001b[0m\u001b[0;34m\u001b[0m\u001b[0m\n\u001b[1;32m     11\u001b[0m     \u001b[0maxes\u001b[0m\u001b[0;34m[\u001b[0m\u001b[0mi\u001b[0m\u001b[0;34m]\u001b[0m\u001b[0;34m.\u001b[0m\u001b[0maxis\u001b[0m\u001b[0;34m(\u001b[0m\u001b[0;34m'off'\u001b[0m\u001b[0;34m)\u001b[0m\u001b[0;34m\u001b[0m\u001b[0;34m\u001b[0m\u001b[0m\n",
            "\u001b[0;31mValueError\u001b[0m: cannot reshape array of size 4095 into shape (64,64)"
          ]
        },
        {
          "output_type": "display_data",
          "data": {
            "image/png": "[encoded data removed]",
            "text/plain": [
              "<Figure size 864x864 with 25 Axes>"
            ]
          },
          "metadata": {
            "tags": [],
            "needs_background": "light"
          }
        }
      ]
    },
    {
      "cell_type": "code",
      "metadata": {
        "id": "gnHnSvHhXh_E"
      },
      "source": [
        ""
      ],
      "execution_count": null,
      "outputs": []
    }
  ]
}